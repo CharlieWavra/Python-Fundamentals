{
  "nbformat": 4,
  "nbformat_minor": 0,
  "metadata": {
    "colab": {
      "name": "Copy of SelectionChallenge.ipynb",
      "provenance": [],
      "collapsed_sections": [],
      "include_colab_link": true
    },
    "kernelspec": {
      "name": "python3",
      "display_name": "Python 3"
    }
  },
  "cells": [
    {
      "cell_type": "markdown",
      "metadata": {
        "id": "view-in-github",
        "colab_type": "text"
      },
      "source": [
        "<a href=\"https://colab.research.google.com/github/CharlieWavra/Python-Fundamentals/blob/main/Copy_of_SelectionChallenge.ipynb\" target=\"_parent\"><img src=\"https://colab.research.google.com/assets/colab-badge.svg\" alt=\"Open In Colab\"/></a>"
      ]
    },
    {
      "cell_type": "markdown",
      "metadata": {
        "id": "-QxAKPD8DZfj"
      },
      "source": [
        "# Three selection challenges\n",
        "\n",
        "---\n"
      ]
    },
    {
      "cell_type": "markdown",
      "metadata": {
        "id": "2KYUALILDcM9"
      },
      "source": [
        "### Challenge 1 - password format  \n",
        "\n",
        "Write a function called **check_password_valid()** which will check the validity of a **password** input by a user.\n",
        "\n",
        "Rules for a valid password are:  \n",
        "\n",
        "*  At least 1 letter between [a-z] and 1 letter between [A-Z].\n",
        "*  At least 1 number between [0-9].\n",
        "*  At least 1 character from [$#@].\n",
        "*  Minimum length 6 characters.\n",
        "*  Maximum length 16 characters.  \n",
        "\n",
        "Let the user know if the `password` they have typed is valid and, if not, where was the first error.\n",
        "\n",
        "*Hint:  to test if a set of characters is present in a password String, you can use re.search('[character set]', `password`)*  \n",
        "\n",
        "Example:   \n",
        "*if re.search('[a-z]',`password`):*    \n",
        "this will be True if there is at least 1 character a-z in the password.\n",
        "\n",
        "**re** is a pre-written Python function for pattern searching in Strings.  It has been imported for you in the code cell below.  "
      ]
    },
    {
      "cell_type": "code",
      "metadata": {
        "id": "8wBK9IA4BO2e",
        "outputId": "b615d33d-d9c2-4dfd-a98a-54073a2f0a93",
        "colab": {
          "base_uri": "https://localhost:8080/"
        }
      },
      "source": [
        "from enum import Flag\n",
        "import re\n",
        "\n",
        "# add your check_PasswordValid() function and call below here\n",
        "def check_password_valid():\n",
        "  flag=0\n",
        "  password=input(\"Please enter your password: \")\n",
        "  if not re.search('[a-z]', password):\n",
        "    flag=1\n",
        "  if not re.search('[A-Z]', password):\n",
        "    flag=1\n",
        "  if not re.search('[0-9]', password):\n",
        "    flag=1\n",
        "  if not re.search('[$#@]', password):\n",
        "    flag=1\n",
        "  if len(password)<6:\n",
        "    flag=1\n",
        "  if len(password)>16:\n",
        "    flag=1\n",
        "  if (flag==0):\n",
        "    print(\"Password is valid\")\n",
        "  else:\n",
        "    print(\"Password is invalid\")\n",
        "check_password_valid()\n",
        "\n",
        "#I had to look up how to use re.search, but after that it wasn't too hard."
      ],
      "execution_count": null,
      "outputs": [
        {
          "output_type": "stream",
          "name": "stdout",
          "text": [
            "Please enter your password: $Macaulay13$\n",
            "Password is valid\n"
          ]
        }
      ]
    },
    {
      "cell_type": "markdown",
      "metadata": {
        "id": "f0R4GYTEFQS-"
      },
      "source": [
        "---\n",
        "### Challenge 2 - triangle shape  \n",
        "\n",
        "Write a function called **evaluate_triangle_shape()** which will check if a triangle is equilateral, isosceles or scalene, based on the three side lengths entered by a user (**x**, **y** and **z**.\n",
        "\n",
        "An equilateral triangle is a triangle in which all three sides are equal.\n",
        "A scalene triangle is a triangle that has three unequal sides.\n",
        "An isosceles triangle is a triangle with (at least) two equal sides.\n",
        "\n",
        "For example:  \n",
        "A triange with side lengths                                 \n",
        "x: 6                                                                    \n",
        "y: 8                                                                    \n",
        "z: 12                                                                   \n",
        "is a *Scalene triangle*\n",
        "\n",
        "A triangle with side lengths\n",
        "x:5  \n",
        "y:3   \n",
        "z:5  \n",
        "is an *Isosceles triangle*"
      ]
    },
    {
      "cell_type": "code",
      "metadata": {
        "id": "oBgl4ro1DVL0",
        "outputId": "fc4bea03-8726-4dbb-8372-e31f58abb9b9",
        "colab": {
          "base_uri": "https://localhost:8080/"
        }
      },
      "source": [
        "def evaluate_triangle_shape():\n",
        "  x=int(input(\"Please enter triangle side 1: \"))\n",
        "  y=int(input(\"Please enter triangle side 2: \"))\n",
        "  z=int(input(\"Please enter triangle side 3: \"))\n",
        "\n",
        "  if x==y==z:\n",
        "    print(\"It is an Equilateral triangle\")\n",
        "  if x==y or y==z or z==x:\n",
        "    print(\"It is an Isosceles triangle\")\n",
        "  else:\n",
        "    print(\"It is a Scalene triangle\")\n",
        "evaluate_triangle_shape()\n",
        "\n",
        "#Not gonna lie, I didn't remember the shapes of triangle from back in the days, it caused me some struggle..."
      ],
      "execution_count": null,
      "outputs": [
        {
          "output_type": "stream",
          "name": "stdout",
          "text": [
            "Please enter triangle side 1: 5\n",
            "Please enter triangle side 2: 3\n",
            "Please enter triangle side 3: 5\n",
            "It is an Isosceles triangle\n"
          ]
        }
      ]
    },
    {
      "cell_type": "markdown",
      "metadata": {
        "id": "hr2EotkqG33l"
      },
      "source": [
        "---\n",
        "### Challenge 3 - which season\n",
        "\n",
        "Write a function called **determine_season()** which will ask the user to enter two integers representing a **month** and **day** and prints the season for that month and day.\n",
        "\n",
        "Note:  for this exercise the season dates are:\n",
        "*  Winter December 21 to March 20    \n",
        "*  Spring March 21 to June 20  \n",
        "*  Summer June 21 to September 20  \n",
        "*  Autumn September 21 to December 20\n",
        "\n",
        "Test input:  \n",
        "Input the month (e.g. January, February etc.): 7                     \n",
        "Input the day: 31                                                       \n",
        "\n",
        "Expected output:  \n",
        "Season is summer \n",
        "\n",
        "*Note: this will require multiple and or or operators and you should use brackets to help Python know which operations to do first*  \n",
        "\n",
        "*For an extra challenge you can check that the day is valid for the month*"
      ]
    },
    {
      "cell_type": "code",
      "metadata": {
        "id": "cvbfz8nzG4IL",
        "outputId": "015436da-4965-40ae-a68a-ed2c0f8c3baa",
        "colab": {
          "base_uri": "https://localhost:8080/"
        }
      },
      "source": [
        "def determine_season():\n",
        "  month=int(input(\"Please enter the number of the month: \"))\n",
        "  winter=[12,1,2]\n",
        "  spring=[3,4,5]\n",
        "  summer=[6,7,8]\n",
        "  autumn=[9,10,11]\n",
        "  if month in winter:\n",
        "    print(\"Season is winter\")\n",
        "  if month in spring:\n",
        "    print(\"Season is spring\")\n",
        "  if month in summer:\n",
        "    print(\"Season is summer\")\n",
        "  if month in autumn:\n",
        "    print(\"Season is autumn\")\n",
        "determine_season()\n",
        "\n",
        "#It is qurater to 1 at night. This is all i was able to figure out, don't know how to sort out the days."
      ],
      "execution_count": null,
      "outputs": [
        {
          "output_type": "stream",
          "name": "stdout",
          "text": [
            "Please enter the number of the month: 8\n",
            "Season is summer\n"
          ]
        }
      ]
    }
  ]
}