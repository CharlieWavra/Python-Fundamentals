{
  "nbformat": 4,
  "nbformat_minor": 0,
  "metadata": {
    "colab": {
      "name": "Copy of Sea-Level-Project.ipynb",
      "provenance": [],
      "include_colab_link": true
    },
    "kernelspec": {
      "name": "python3",
      "display_name": "Python 3"
    },
    "language_info": {
      "name": "python"
    }
  },
  "cells": [
    {
      "cell_type": "markdown",
      "metadata": {
        "id": "view-in-github",
        "colab_type": "text"
      },
      "source": [
        "<a href=\"https://colab.research.google.com/github/CharlieWavra/Python-Fundamentals/blob/main/Projects/Sea_Level_Project.ipynb\" target=\"_parent\"><img src=\"https://colab.research.google.com/assets/colab-badge.svg\" alt=\"Open In Colab\"/></a>"
      ]
    },
    {
      "cell_type": "markdown",
      "source": [
        "# Using numpy to look for a correlation between time data and sea level rise\n",
        "---\n",
        "\n",
        "### Data Source\n",
        "Global Average Absolute Sea Level Change, 1880-2014 from the US Environmental Protection Agency using data from CSIRO, 2015; NOAA, 2015.\n",
        "https://datahub.io/core/sea-level-rise\n",
        "\n",
        "The data describes annual sea levels from 1880 to 2013.  Measures are adjusted using two standards: Commonwealth Scientific and Industrial Research Organisation(CSIRO) and National Oceanic and Atmospheric Administration (NOAA)  \n",
        "\n",
        "Raw Data file:  https://raw.githubusercontent.com/freeCodeCamp/boilerplate-sea-level-predictor/master/epa-sea-level.csv\n",
        "\n",
        "For this exercise:\n",
        "*  import the pandas library\n",
        "*  import the numpy library\n",
        "*  read the csv dataset containing data on sea-levels from the year 1880 to 2013 into a dataframe (df)\n",
        "*  use df.head() and df.info() to inspect the data and the column data types\n",
        "\n"
      ],
      "metadata": {
        "id": "jBYNdCdQ9_cu"
      }
    },
    {
      "cell_type": "code",
      "source": [
        "import pandas as pd\n",
        "import numpy as np\n",
        "url = \"https://raw.githubusercontent.com/freeCodeCamp/boilerplate-sea-level-predictor/master/epa-sea-level.csv\"\n",
        "sea_levels = pd.read_csv(url)\n",
        "\n",
        "\n",
        "def get_summary():\n",
        "  # add code below which prints the first 5 rows of the dataset, the info and the numerical summary\n",
        "  #return sea_levels.head(), sea_levels.info()\n",
        "  print(sea_levels.head())\n",
        "  print(sea_levels.info())\n",
        "get_summary()"
      ],
      "metadata": {
        "id": "r1XUCWHV_Cj9",
        "outputId": "34a6847d-44c9-4545-ffcd-cb2859fe0bb0",
        "colab": {
          "base_uri": "https://localhost:8080/"
        }
      },
      "execution_count": null,
      "outputs": [
        {
          "output_type": "stream",
          "name": "stdout",
          "text": [
            "   Year  CSIRO Adjusted Sea Level  Lower Error Bound  Upper Error Bound  \\\n",
            "0  1880                  0.000000          -0.952756           0.952756   \n",
            "1  1881                  0.220472          -0.732283           1.173228   \n",
            "2  1882                 -0.440945          -1.346457           0.464567   \n",
            "3  1883                 -0.232283          -1.129921           0.665354   \n",
            "4  1884                  0.590551          -0.283465           1.464567   \n",
            "\n",
            "   NOAA Adjusted Sea Level  \n",
            "0                      NaN  \n",
            "1                      NaN  \n",
            "2                      NaN  \n",
            "3                      NaN  \n",
            "4                      NaN  \n",
            "<class 'pandas.core.frame.DataFrame'>\n",
            "RangeIndex: 134 entries, 0 to 133\n",
            "Data columns (total 5 columns):\n",
            " #   Column                    Non-Null Count  Dtype  \n",
            "---  ------                    --------------  -----  \n",
            " 0   Year                      134 non-null    int64  \n",
            " 1   CSIRO Adjusted Sea Level  134 non-null    float64\n",
            " 2   Lower Error Bound         134 non-null    float64\n",
            " 3   Upper Error Bound         134 non-null    float64\n",
            " 4   NOAA Adjusted Sea Level   21 non-null     float64\n",
            "dtypes: float64(4), int64(1)\n",
            "memory usage: 5.4 KB\n",
            "None\n"
          ]
        }
      ]
    },
    {
      "cell_type": "markdown",
      "source": [
        "### Then\n",
        "---\n",
        "1.  Calculate some statistics on the level array, eg:\n",
        "*  mean\n",
        "*  standard deviation\n",
        "*  total \n",
        "\n",
        "2.  Use the fact that the arrays are aligned (e.g. the first number in the level array is linked to the first year in the year array and display:\n",
        "\n",
        "*  the year with the biggest rise in level\n",
        "*  the year with the lowest rise in level\n",
        "\n",
        "*(**Hint**:  to do this you can use a new numpy function np.where() )*\n",
        " ```\n",
        "np.where(array == value_to_find)\n",
        "```\n",
        "*There is some reference material [here](https://thispointer.com/find-the-index-of-a-value-in-numpy-array/)*\n",
        "\n",
        "**Note**: ```np.where(...)``` will return a tuple containing all indexes where that value was found.  You can print all, or you can print the first value (it is likely that there will only be one in this case) using [0][0].  *With the correct code you should get an answer of 2012*\n",
        "\n",
        "\n",
        "3.  Calculate the Pearson product-moment correlation coefficient between year and the rise in sea level.  (*Expected output:  0.98 when rounded to 2 decimal places*)"
      ],
      "metadata": {
        "id": "3cf1YPgnBSc2"
      }
    },
    {
      "cell_type": "code",
      "execution_count": null,
      "metadata": {
        "id": "8VWUtmK4YhoU",
        "outputId": "98ad6bd9-dc81-46fe-a4d2-daa37cee9e8a",
        "colab": {
          "base_uri": "https://localhost:8080/"
        }
      },
      "outputs": [
        {
          "output_type": "stream",
          "name": "stdout",
          "text": [
            "Mean 3.650340811880598 Std 2.476399631426498 Total 489.1456687920001 Highest sea level 9.326771644 Lowest sea level -0.440944881\n",
            "2012\n",
            "1882\n",
            "[[1.         0.98475713]\n",
            " [0.98475713 1.        ]]\n",
            "0.98\n"
          ]
        }
      ],
      "source": [
        "def get_levels(): \n",
        "  year = sea_levels[\"Year\"].to_numpy(np.int64)\n",
        "  level =sea_levels[\"CSIRO Adjusted Sea Level\"].to_numpy(np.float64) # adding CSiro ajusted colum\n",
        "\n",
        "#Calculate  mean, standard deviation, total\n",
        "  avg_level = level.mean()\n",
        "  std = level.std()\n",
        "  sum = level.sum()\n",
        "  max = level.max()# highest sea level \n",
        "  min = level.min() # lowest sea level\n",
        "  print(\"Mean\",avg_level, \"Std\", std, \"Total\",sum, \"Highest sea level\",max, \"Lowest sea level\",min)\n",
        "\n",
        "  #the year with the biggest rise in level\n",
        "  higgest_sea_rise_year = np.where(level == max)[0][0]\n",
        "  #the year with the lowest rise in level\n",
        "  lowest_sea_rise_year = np.where(sea_levels == min)[0][0]\n",
        "  print(year[higgest_sea_rise_year])\n",
        "  print(year[lowest_sea_rise_year])\n",
        "\n",
        "  #Calculate correlation coefficien\n",
        "  coeff =np. corrcoef(year,level)\n",
        "  print(coeff)\n",
        "  print(round(coeff[0][1],2))\n",
        "  \n",
        "get_levels()"
      ]
    },
    {
      "cell_type": "markdown",
      "source": [
        "#**Using a line chart to show the change in sea levels over the years:**"
      ],
      "metadata": {
        "id": "7eCDWckIjyfk"
      }
    },
    {
      "cell_type": "code",
      "source": [
        "import seaborn as sns\n",
        "import matplotlib.pyplot as plt\n",
        "\n",
        "\n",
        "def line_chart():\n",
        "\n",
        "  sns.set(rc = {'figure.figsize':(15,10)})\n",
        "  sns.lineplot(data=sea_levels,x=\"Year\",y=\"CSIRO Adjusted Sea Level\",linewidth=2.5,color=\"darkblue\")\n",
        "\n",
        "  plt.ylim(0,10)\n",
        "  plt.xlim(1870,2020)\n",
        "\n",
        "line_chart()"
      ],
      "metadata": {
        "id": "622P16T3kFLw",
        "outputId": "0996e319-bbf4-461e-a16f-76bc146ef71f",
        "colab": {
          "base_uri": "https://localhost:8080/",
          "height": 615
        }
      },
      "execution_count": 56,
      "outputs": [
        {
          "output_type": "display_data",
          "data": {
            "text/plain": [
              "<Figure size 1080x720 with 1 Axes>"
            ],
            "image/png": "[encoded data removed]"
          },
          "metadata": {}
        }
      ]
    },
    {
      "cell_type": "markdown",
      "metadata": {
        "id": "yQyytEbnZ1lw"
      },
      "source": [
        "# Reflection\n",
        "----\n",
        "\n",
        "## What skills have you demonstrated in completing this notebook?"
      ]
    },
    {
      "cell_type": "markdown",
      "metadata": {
        "id": "MM00hR5aZk1-"
      },
      "source": [
        "Your answer: \n",
        "\n",
        "Importing Python libraries. Importing dataset using panadas. Using Numpy. Creating line chart with Seaborn."
      ]
    },
    {
      "cell_type": "markdown",
      "metadata": {
        "id": "Zgexd27sZ1ly"
      },
      "source": [
        "## What caused you the most difficulty?"
      ]
    },
    {
      "cell_type": "markdown",
      "metadata": {
        "id": "-Y_nrVBwaGXr"
      },
      "source": [
        "Your answer: \n",
        "\n",
        "Without external help Numpy might cause some difficluties to use."
      ]
    }
  ]
}